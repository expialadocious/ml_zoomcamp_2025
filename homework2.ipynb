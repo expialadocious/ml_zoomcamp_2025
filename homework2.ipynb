{
 "cells": [
  {
   "cell_type": "code",
   "execution_count": 1,
   "id": "624c49b7",
   "metadata": {},
   "outputs": [],
   "source": [
    "import pandas as pd\n",
    "import numpy as np\n",
    "import matplotlib as plt\n",
    "import seaborn as sns"
   ]
  },
  {
   "cell_type": "code",
   "execution_count": 3,
   "id": "eaf7f5c0",
   "metadata": {},
   "outputs": [
    {
     "name": "stdout",
     "output_type": "stream",
     "text": [
      "hello codespace\n"
     ]
    }
   ],
   "source": [
    "print(\"hello codespace\")"
   ]
  },
  {
   "cell_type": "code",
   "execution_count": 2,
   "id": "e89aff07",
   "metadata": {},
   "outputs": [
    {
     "data": {
      "text/html": [
       "<div>\n",
       "<style scoped>\n",
       "    .dataframe tbody tr th:only-of-type {\n",
       "        vertical-align: middle;\n",
       "    }\n",
       "\n",
       "    .dataframe tbody tr th {\n",
       "        vertical-align: top;\n",
       "    }\n",
       "\n",
       "    .dataframe thead th {\n",
       "        text-align: right;\n",
       "    }\n",
       "</style>\n",
       "<table border=\"1\" class=\"dataframe\">\n",
       "  <thead>\n",
       "    <tr style=\"text-align: right;\">\n",
       "      <th></th>\n",
       "      <th>engine_displacement</th>\n",
       "      <th>num_cylinders</th>\n",
       "      <th>horsepower</th>\n",
       "      <th>vehicle_weight</th>\n",
       "      <th>acceleration</th>\n",
       "      <th>model_year</th>\n",
       "      <th>origin</th>\n",
       "      <th>fuel_type</th>\n",
       "      <th>drivetrain</th>\n",
       "      <th>num_doors</th>\n",
       "      <th>fuel_efficiency_mpg</th>\n",
       "    </tr>\n",
       "  </thead>\n",
       "  <tbody>\n",
       "    <tr>\n",
       "      <th>0</th>\n",
       "      <td>170</td>\n",
       "      <td>3.0</td>\n",
       "      <td>159.0</td>\n",
       "      <td>3413.433759</td>\n",
       "      <td>17.7</td>\n",
       "      <td>2003</td>\n",
       "      <td>Europe</td>\n",
       "      <td>Gasoline</td>\n",
       "      <td>All-wheel drive</td>\n",
       "      <td>0.0</td>\n",
       "      <td>13.231729</td>\n",
       "    </tr>\n",
       "    <tr>\n",
       "      <th>1</th>\n",
       "      <td>130</td>\n",
       "      <td>5.0</td>\n",
       "      <td>97.0</td>\n",
       "      <td>3149.664934</td>\n",
       "      <td>17.8</td>\n",
       "      <td>2007</td>\n",
       "      <td>USA</td>\n",
       "      <td>Gasoline</td>\n",
       "      <td>Front-wheel drive</td>\n",
       "      <td>0.0</td>\n",
       "      <td>13.688217</td>\n",
       "    </tr>\n",
       "  </tbody>\n",
       "</table>\n",
       "</div>"
      ],
      "text/plain": [
       "   engine_displacement  num_cylinders  horsepower  vehicle_weight  \\\n",
       "0                  170            3.0       159.0     3413.433759   \n",
       "1                  130            5.0        97.0     3149.664934   \n",
       "\n",
       "   acceleration  model_year  origin fuel_type         drivetrain  num_doors  \\\n",
       "0          17.7        2003  Europe  Gasoline    All-wheel drive        0.0   \n",
       "1          17.8        2007     USA  Gasoline  Front-wheel drive        0.0   \n",
       "\n",
       "   fuel_efficiency_mpg  \n",
       "0            13.231729  \n",
       "1            13.688217  "
      ]
     },
     "execution_count": 2,
     "metadata": {},
     "output_type": "execute_result"
    }
   ],
   "source": [
    "## read data file\n",
    "df = pd.read_csv('car_fuel_efficiency.csv')\n",
    "\n",
    "df.head(2)"
   ]
  },
  {
   "cell_type": "code",
   "execution_count": 4,
   "id": "290f9d21",
   "metadata": {},
   "outputs": [],
   "source": [
    "## Preparing the dataset\n",
    "    ## use only desired columns\n",
    "df1 = df.copy()\n",
    "df1 =df1.loc[:,['engine_displacement','horsepower','vehicle_weight','model_year', 'fuel_efficiency_mpg']]"
   ]
  },
  {
   "cell_type": "code",
   "execution_count": 5,
   "id": "13ba1e2e",
   "metadata": {},
   "outputs": [
    {
     "data": {
      "text/html": [
       "<div>\n",
       "<style scoped>\n",
       "    .dataframe tbody tr th:only-of-type {\n",
       "        vertical-align: middle;\n",
       "    }\n",
       "\n",
       "    .dataframe tbody tr th {\n",
       "        vertical-align: top;\n",
       "    }\n",
       "\n",
       "    .dataframe thead th {\n",
       "        text-align: right;\n",
       "    }\n",
       "</style>\n",
       "<table border=\"1\" class=\"dataframe\">\n",
       "  <thead>\n",
       "    <tr style=\"text-align: right;\">\n",
       "      <th></th>\n",
       "      <th>engine_displacement</th>\n",
       "      <th>horsepower</th>\n",
       "      <th>vehicle_weight</th>\n",
       "      <th>model_year</th>\n",
       "      <th>fuel_efficiency_mpg</th>\n",
       "    </tr>\n",
       "  </thead>\n",
       "  <tbody>\n",
       "    <tr>\n",
       "      <th>0</th>\n",
       "      <td>170</td>\n",
       "      <td>159.0</td>\n",
       "      <td>3413.433759</td>\n",
       "      <td>2003</td>\n",
       "      <td>13.231729</td>\n",
       "    </tr>\n",
       "    <tr>\n",
       "      <th>1</th>\n",
       "      <td>130</td>\n",
       "      <td>97.0</td>\n",
       "      <td>3149.664934</td>\n",
       "      <td>2007</td>\n",
       "      <td>13.688217</td>\n",
       "    </tr>\n",
       "  </tbody>\n",
       "</table>\n",
       "</div>"
      ],
      "text/plain": [
       "   engine_displacement  horsepower  vehicle_weight  model_year  \\\n",
       "0                  170       159.0     3413.433759        2003   \n",
       "1                  130        97.0     3149.664934        2007   \n",
       "\n",
       "   fuel_efficiency_mpg  \n",
       "0            13.231729  \n",
       "1            13.688217  "
      ]
     },
     "execution_count": 5,
     "metadata": {},
     "output_type": "execute_result"
    }
   ],
   "source": [
    "df1.head(2)"
   ]
  },
  {
   "cell_type": "code",
   "execution_count": 6,
   "id": "08ac8070",
   "metadata": {},
   "outputs": [
    {
     "data": {
      "text/plain": [
       "<Axes: xlabel='fuel_efficiency_mpg', ylabel='Count'>"
      ]
     },
     "execution_count": 6,
     "metadata": {},
     "output_type": "execute_result"
    },
    {
     "data": {
      "image/png": "[encoded data removed]",
      "text/plain": [
       "<Figure size 640x480 with 1 Axes>"
      ]
     },
     "metadata": {},
     "output_type": "display_data"
    }
   ],
   "source": [
    "## EDA\n",
    "    ## Look at the fuel_efficiency_mpg variable. Does it have a long tail?\n",
    "\n",
    "%matplotlib inline\n",
    "\n",
    "sns.histplot(df1['fuel_efficiency_mpg'], bins=50)\n",
    "\n",
    "\n",
    "## EDA Answer = fuel_efficiency_mpg does not have a long tail. The values are normally distributed\n",
    "\n"
   ]
  },
  {
   "cell_type": "code",
   "execution_count": 7,
   "id": "77ddb21d",
   "metadata": {},
   "outputs": [
    {
     "data": {
      "text/plain": [
       "engine_displacement      0\n",
       "horsepower             708\n",
       "vehicle_weight           0\n",
       "model_year               0\n",
       "fuel_efficiency_mpg      0\n",
       "dtype: int64"
      ]
     },
     "execution_count": 7,
     "metadata": {},
     "output_type": "execute_result"
    }
   ],
   "source": [
    "## Question 1 = There's one column with missing values. What is it?\n",
    "\n",
    "df1.isnull().sum()\n",
    "\n",
    "##Answer = horsepower column has the missing values"
   ]
  },
  {
   "cell_type": "code",
   "execution_count": 8,
   "id": "9107abee",
   "metadata": {},
   "outputs": [
    {
     "name": "stdout",
     "output_type": "stream",
     "text": [
      "median value for horsepower is: 149.0\n"
     ]
    },
    {
     "name": "stderr",
     "output_type": "stream",
     "text": [
      "/tmp/ipykernel_8908/3154799106.py:4: FutureWarning: Series.__getitem__ treating keys as positions is deprecated. In a future version, integer keys will always be treated as labels (consistent with DataFrame behavior). To access a value by position, use `ser.iloc[pos]`\n",
      "  print(f'median value for horsepower is: {df1.horsepower.describe()[5]}')\n"
     ]
    },
    {
     "data": {
      "text/plain": [
       "count    8996.000000\n",
       "mean      149.657292\n",
       "std        29.879555\n",
       "min        37.000000\n",
       "25%       130.000000\n",
       "50%       149.000000\n",
       "75%       170.000000\n",
       "max       271.000000\n",
       "Name: horsepower, dtype: float64"
      ]
     },
     "execution_count": 8,
     "metadata": {},
     "output_type": "execute_result"
    }
   ],
   "source": [
    "## Question 2 = What is the median (50% percentile) for variable \"horsepower\"?\n",
    "\n",
    "\n",
    "print(f'median value for horsepower is: {df1.horsepower.describe()[5]}')\n",
    "df1.horsepower.describe()\n",
    "\n",
    "# Answer = median value is 149"
   ]
  },
  {
   "cell_type": "code",
   "execution_count": 59,
   "id": "52f1033a",
   "metadata": {},
   "outputs": [],
   "source": [
    "### QUESTION 2 = Prepare and split the dataset\n",
    "## shuffle the dataset and use seed 42\n",
    "\n",
    "## SPlit data into Train/Val/Test sets with 60%/20%/20% distribution\n",
    "\n",
    "## calculate count of observations per data set (train, validate, test)\n",
    "n = len(df1)\n",
    "n_val = int(n * 0.2)\n",
    "n_test = int(n * 0.2)\n",
    "n_train = n - n_val - n_test\n",
    "\n",
    "## create random shuffle component to randomly create data sets\n",
    "idx = np.arange(n)\n",
    "np.random.seed(42)\n",
    "np.random.shuffle(idx)\n",
    "\n",
    "## create random data sets for each (train, validate, test)\n",
    "    ## data sets will be subfiltered DataFrame\n",
    "\n",
    "df_train = df1.iloc[idx[:n_train]]\n",
    "df_val = df1.iloc[idx[n_train:n_train + n_val]]\n",
    "df_test = df1.iloc[idx[n_train+n_val:]]\n",
    "\n",
    "## drop indexes on data sets saved to respective DataFrames\n",
    "df_train = df_train.reset_index(drop=True)\n",
    "df_val = df_val.reset_index(drop=True)\n",
    "df_test = df_test.reset_index(drop=True)"
   ]
  },
  {
   "cell_type": "markdown",
   "id": "6f19d38f-e6f3-4a00-aa73-ffea23493b7a",
   "metadata": {},
   "source": [
    "# QUESTION 3\n",
    "\n",
    "We need to deal with missing values for the column from Q1.\n",
    "\n",
    "We have two options: fill it with 0 or with the mean of this variable.\n",
    "\n",
    "Try both options. For each, train a linear regression model without regularization using the \n",
    "code from the lessons.\n",
    "\n",
    "For computing the mean, use the training only!\n",
    "\n",
    "Use the validation dataset to evaluate the models and compare the RMSE of each option.\n",
    "\n",
    "Round the RMSE scores to 2 decimal digits using round(score, 2)\n",
    "\n",
    "Which option gives better RMSE?"
   ]
  },
  {
   "cell_type": "code",
   "execution_count": 13,
   "id": "26b3c46d-7d23-4eec-9e0c-68f117c97cab",
   "metadata": {},
   "outputs": [
    {
     "data": {
      "text/plain": [
       "engine_displacement      0\n",
       "horsepower             708\n",
       "vehicle_weight           0\n",
       "model_year               0\n",
       "fuel_efficiency_mpg      0\n",
       "dtype: int64"
      ]
     },
     "execution_count": 13,
     "metadata": {},
     "output_type": "execute_result"
    }
   ],
   "source": [
    "## deal with missing values in \"horsepower\" column\n",
    "df1.isnull().sum()"
   ]
  },
  {
   "cell_type": "markdown",
   "id": "43e4fb62-02ea-46bb-8edf-04af4b3b7453",
   "metadata": {},
   "source": [
    "### Missing values Option 1 = fillna set to 0 and train regression model"
   ]
  },
  {
   "cell_type": "code",
   "execution_count": 11,
   "id": "2d3576c9-2d8c-45c4-9c53-58aa51d57748",
   "metadata": {},
   "outputs": [
    {
     "data": {
      "text/plain": [
       "engine_displacement      0\n",
       "horsepower             429\n",
       "vehicle_weight           0\n",
       "model_year               0\n",
       "fuel_efficiency_mpg      0\n",
       "dtype: int64"
      ]
     },
     "execution_count": 11,
     "metadata": {},
     "output_type": "execute_result"
    }
   ],
   "source": [
    "df_train.isnull().sum()"
   ]
  },
  {
   "cell_type": "code",
   "execution_count": 60,
   "id": "233b8e9f-f87b-4d2f-b659-8b1e3cd29314",
   "metadata": {},
   "outputs": [
    {
     "name": "stdout",
     "output_type": "stream",
     "text": [
      "df train nulls: engine_displacement    0\n",
      "horsepower             0\n",
      "vehicle_weight         0\n",
      "model_year             0\n",
      "fuel_efficiency_mpg    0\n",
      "dtype: int64\n",
      "df val nulls: engine_displacement    0\n",
      "horsepower             0\n",
      "vehicle_weight         0\n",
      "model_year             0\n",
      "fuel_efficiency_mpg    0\n",
      "dtype: int64\n",
      "df test nulls: engine_displacement    0\n",
      "horsepower             0\n",
      "vehicle_weight         0\n",
      "model_year             0\n",
      "fuel_efficiency_mpg    0\n",
      "dtype: int64\n"
     ]
    }
   ],
   "source": [
    "## Fillna with Zeros\n",
    "df_train.fillna(0, inplace=True)\n",
    "df_val.fillna(0, inplace=True)\n",
    "df_test.fillna(0, inplace=True)\n",
    "\n",
    "print(f'df train nulls: {df_train.isnull().sum()}')\n",
    "print(f'df val nulls: {df_val.isnull().sum()}')\n",
    "print(f'df test nulls: {df_test.isnull().sum()}')\n",
    "\n"
   ]
  },
  {
   "cell_type": "code",
   "execution_count": 61,
   "id": "b19b4f4d-a3c2-4fce-a30b-2c91665520b3",
   "metadata": {},
   "outputs": [],
   "source": [
    "## save out predictor variable \"y\"\n",
    "y_train = df_train['fuel_efficiency_mpg'].values\n",
    "y_val = df_val['fuel_efficiency_mpg'].values\n",
    "y_test = df_test['fuel_efficiency_mpg'].values\n",
    "\n",
    "## drop predictor variable from dataframes (train, validate, test)\n",
    "del df_train['fuel_efficiency_mpg']\n",
    "del df_val['fuel_efficiency_mpg']\n",
    "del df_test['fuel_efficiency_mpg']"
   ]
  },
  {
   "cell_type": "code",
   "execution_count": 22,
   "id": "8b2d8cc0-4e59-4000-a6ae-961920ea7643",
   "metadata": {},
   "outputs": [
    {
     "data": {
      "text/html": [
       "<div>\n",
       "<style scoped>\n",
       "    .dataframe tbody tr th:only-of-type {\n",
       "        vertical-align: middle;\n",
       "    }\n",
       "\n",
       "    .dataframe tbody tr th {\n",
       "        vertical-align: top;\n",
       "    }\n",
       "\n",
       "    .dataframe thead th {\n",
       "        text-align: right;\n",
       "    }\n",
       "</style>\n",
       "<table border=\"1\" class=\"dataframe\">\n",
       "  <thead>\n",
       "    <tr style=\"text-align: right;\">\n",
       "      <th></th>\n",
       "      <th>engine_displacement</th>\n",
       "      <th>horsepower</th>\n",
       "      <th>vehicle_weight</th>\n",
       "      <th>model_year</th>\n",
       "    </tr>\n",
       "  </thead>\n",
       "  <tbody>\n",
       "    <tr>\n",
       "      <th>0</th>\n",
       "      <td>220</td>\n",
       "      <td>144.0</td>\n",
       "      <td>2535.887591</td>\n",
       "      <td>2009</td>\n",
       "    </tr>\n",
       "    <tr>\n",
       "      <th>1</th>\n",
       "      <td>160</td>\n",
       "      <td>141.0</td>\n",
       "      <td>2741.170484</td>\n",
       "      <td>2019</td>\n",
       "    </tr>\n",
       "  </tbody>\n",
       "</table>\n",
       "</div>"
      ],
      "text/plain": [
       "   engine_displacement  horsepower  vehicle_weight  model_year\n",
       "0                  220       144.0     2535.887591        2009\n",
       "1                  160       141.0     2741.170484        2019"
      ]
     },
     "execution_count": 22,
     "metadata": {},
     "output_type": "execute_result"
    }
   ],
   "source": [
    "## Save \"X\" array with all required features\n",
    "df_train.head(2)"
   ]
  },
  {
   "cell_type": "code",
   "execution_count": 25,
   "id": "7dc87917-a311-4a4d-b6c3-6faaf83305f6",
   "metadata": {},
   "outputs": [
    {
     "data": {
      "text/plain": [
       "array([16.64294342, 16.29837715, 18.59182197, ..., 17.59323665,\n",
       "       18.92574819, 17.96528447], shape=(5824,))"
      ]
     },
     "execution_count": 25,
     "metadata": {},
     "output_type": "execute_result"
    }
   ],
   "source": [
    "## y predictor variable already created\n",
    "y_train"
   ]
  },
  {
   "cell_type": "code",
   "execution_count": 62,
   "id": "bd472fc2-d59a-43c6-a11b-638a1b58e072",
   "metadata": {},
   "outputs": [],
   "source": [
    "## Create Features Array\n",
    "X_train = df_train.values\n",
    "\n",
    "## y_train already has y predictor variable\n",
    "\n",
    "\n",
    "def train_linear_regression(X, y):\n",
    "    ones = np.ones(X.shape[0])            ##create bias term\n",
    "    X = np.column_stack([ones, X])        ## stack bias term into Feature Array X\n",
    "\n",
    "    XTX = X.T.dot(X)\n",
    "    XTX_inv = np.linalg.inv(XTX)\n",
    "    w_full = XTX_inv.dot(X.T).dot(y)\n",
    "    \n",
    "    return w_full[0], w_full[1:]"
   ]
  },
  {
   "cell_type": "code",
   "execution_count": 29,
   "id": "d65e7aa1-dfa4-4743-865f-85c4b359455d",
   "metadata": {},
   "outputs": [
    {
     "data": {
      "text/plain": [
       "(np.float64(28.82736547365895),\n",
       " array([ 9.93613218e-05,  3.54221891e-03, -5.01328015e-03,  3.42992870e-04]))"
      ]
     },
     "execution_count": 29,
     "metadata": {},
     "output_type": "execute_result"
    }
   ],
   "source": [
    "train_linear_regression(X_train, y_train)"
   ]
  },
  {
   "cell_type": "code",
   "execution_count": 63,
   "id": "6486507f-f8c2-4d4a-ad4b-3dac9b0e0545",
   "metadata": {},
   "outputs": [
    {
     "data": {
      "text/plain": [
       "(np.float64(28.82736547365895),\n",
       " array([ 9.93613218e-05,  3.54221891e-03, -5.01328015e-03,  3.42992870e-04]))"
      ]
     },
     "execution_count": 63,
     "metadata": {},
     "output_type": "execute_result"
    }
   ],
   "source": [
    "## Set weights to output of linear regression training\n",
    "    ## w0 = intercept\n",
    "    ## w1 = weights for all of the X features  (the \"coefficients\")\n",
    "w0, w = train_linear_regression(X_train, y_train)\n",
    "\n",
    "w0, w"
   ]
  },
  {
   "cell_type": "code",
   "execution_count": 33,
   "id": "d715b8ba-5c0d-497a-8d34-b3cd080359ae",
   "metadata": {},
   "outputs": [
    {
     "data": {
      "text/html": [
       "<div>\n",
       "<style scoped>\n",
       "    .dataframe tbody tr th:only-of-type {\n",
       "        vertical-align: middle;\n",
       "    }\n",
       "\n",
       "    .dataframe tbody tr th {\n",
       "        vertical-align: top;\n",
       "    }\n",
       "\n",
       "    .dataframe thead th {\n",
       "        text-align: right;\n",
       "    }\n",
       "</style>\n",
       "<table border=\"1\" class=\"dataframe\">\n",
       "  <thead>\n",
       "    <tr style=\"text-align: right;\">\n",
       "      <th></th>\n",
       "      <th>engine_displacement</th>\n",
       "      <th>horsepower</th>\n",
       "      <th>vehicle_weight</th>\n",
       "      <th>model_year</th>\n",
       "      <th>fuel_efficiency_mpg</th>\n",
       "    </tr>\n",
       "  </thead>\n",
       "  <tbody>\n",
       "    <tr>\n",
       "      <th>0</th>\n",
       "      <td>170</td>\n",
       "      <td>159.0</td>\n",
       "      <td>3413.433759</td>\n",
       "      <td>2003</td>\n",
       "      <td>13.231729</td>\n",
       "    </tr>\n",
       "    <tr>\n",
       "      <th>1</th>\n",
       "      <td>130</td>\n",
       "      <td>97.0</td>\n",
       "      <td>3149.664934</td>\n",
       "      <td>2007</td>\n",
       "      <td>13.688217</td>\n",
       "    </tr>\n",
       "  </tbody>\n",
       "</table>\n",
       "</div>"
      ],
      "text/plain": [
       "   engine_displacement  horsepower  vehicle_weight  model_year  \\\n",
       "0                  170       159.0     3413.433759        2003   \n",
       "1                  130        97.0     3149.664934        2007   \n",
       "\n",
       "   fuel_efficiency_mpg  \n",
       "0            13.231729  \n",
       "1            13.688217  "
      ]
     },
     "execution_count": 33,
     "metadata": {},
     "output_type": "execute_result"
    }
   ],
   "source": [
    "df1.head(2)"
   ]
  },
  {
   "cell_type": "markdown",
   "id": "3bc03d10-579c-4aed-b179-d1b3c6c4a4a8",
   "metadata": {},
   "source": [
    "### Use validation dataset to evaluate the model where missing horsepower values are set to 0"
   ]
  },
  {
   "cell_type": "code",
   "execution_count": 64,
   "id": "1b6d64ae-7cd2-4c63-b783-3a3a5aa4e2e7",
   "metadata": {},
   "outputs": [],
   "source": [
    "## save X features to array for \"df_val\" Dataframe containing all features\n",
    "X_val = df_val.values\n",
    "\n",
    "\n",
    "## Use Trained Regression model to predict on validation dataset\n",
    "y_pred = w0 + X_val.dot(w)"
   ]
  },
  {
   "cell_type": "code",
   "execution_count": 42,
   "id": "6049886d-d3c1-4714-a958-06afa6f48a65",
   "metadata": {},
   "outputs": [],
   "source": [
    "## function to calculate Root Mean Square Error\n",
    "    ## lower the RMSE the better\n",
    "\n",
    "def rmse(y, y_pred):\n",
    "    se = (y - y_pred)**2\n",
    "    mse= se.mean()\n",
    "    return np.sqrt(mse)"
   ]
  },
  {
   "cell_type": "code",
   "execution_count": 65,
   "id": "9da4c7fe-6c15-4c40-a63f-d4ad85a1827f",
   "metadata": {},
   "outputs": [
    {
     "name": "stdout",
     "output_type": "stream",
     "text": [
      " RMSE for fillna(0) training data: 0.52\n"
     ]
    }
   ],
   "source": [
    "## This is the validation RMSE based on the linear regression model that used \"fillna\" 0 whenever there were missing values for \"horsepower\"\n",
    "\n",
    "print(f' RMSE for fillna(0) training data: {round(rmse(y_val, y_pred), 2)}')"
   ]
  },
  {
   "cell_type": "markdown",
   "id": "eccf5767-3dd2-47ae-b845-98538bc96f0a",
   "metadata": {},
   "source": [
    "## Missing Values Option 2 = fillna set to mean of training data.\n",
    "\n",
    "Then train regression model and validate on validation data"
   ]
  },
  {
   "cell_type": "code",
   "execution_count": 47,
   "id": "29b9cbb0-53e0-4301-b498-e5ffbc11ffa2",
   "metadata": {},
   "outputs": [],
   "source": [
    "## calculate count of observations per data set (train, validate, test)\n",
    "n = len(df1)\n",
    "n_val = int(n * 0.2)\n",
    "n_test = int(n * 0.2)\n",
    "n_train = n - n_val - n_test\n",
    "\n",
    "## create random shuffle component to randomly create data sets\n",
    "idx = np.arange(n)\n",
    "np.random.seed(42)\n",
    "np.random.shuffle(idx)\n",
    "\n",
    "## create random data sets for each (train, validate, test)\n",
    "    ## data sets will be subfiltered DataFrame\n",
    "\n",
    "df_train = df1.iloc[idx[:n_train]]\n",
    "df_val = df1.iloc[idx[n_train:n_train + n_val]]\n",
    "df_test = df1.iloc[idx[n_train+n_val:]]\n",
    "\n",
    "## drop indexes on data sets saved to respective DataFrames\n",
    "df_train = df_train.reset_index(drop=True)\n",
    "df_val = df_val.reset_index(drop=True)\n",
    "df_test = df_test.reset_index(drop=True)"
   ]
  },
  {
   "cell_type": "code",
   "execution_count": 49,
   "id": "740ec0dd-895d-4861-a50c-eeba899320ad",
   "metadata": {},
   "outputs": [
    {
     "data": {
      "text/plain": [
       "np.float64(149.54476367006487)"
      ]
     },
     "execution_count": 49,
     "metadata": {},
     "output_type": "execute_result"
    }
   ],
   "source": [
    "## what is mean value of horspower in df_train?\n",
    "\n",
    "df_train.horsepower.mean()"
   ]
  },
  {
   "cell_type": "code",
   "execution_count": 50,
   "id": "9c6aa3f2-5130-4113-870a-3f94e6d93905",
   "metadata": {},
   "outputs": [],
   "source": [
    "## set mean horsepower from training data set to fillna( ) all missing occurrences of horsepower\n",
    "    ## in training , validation, and test dataset\n",
    "\n",
    "mean_horsepower = df_train.horsepower.mean()\n",
    "\n",
    "df_train.fillna(mean_horsepower, inplace=True)\n",
    "df_val.fillna(mean_horsepower, inplace=True)\n",
    "df_test.fillna(mean_horsepower, inplace=True)"
   ]
  },
  {
   "cell_type": "code",
   "execution_count": 53,
   "id": "13aa70c6-39fc-4f6c-b649-db6a17116e79",
   "metadata": {},
   "outputs": [],
   "source": [
    "## Set y predictor variable to array and drop variable from feature space\n",
    "    ## (train , validate, and test datasets)\n",
    "\n",
    "df_train.head(2)\n",
    "\n",
    "y_train = df_train['fuel_efficiency_mpg'].values\n",
    "y_val = df_val['fuel_efficiency_mpg'].values\n",
    "y_test = df_test['fuel_efficiency_mpg'].values\n",
    "\n",
    "del df_train['fuel_efficiency_mpg']\n",
    "del df_val['fuel_efficiency_mpg']\n",
    "del df_test['fuel_efficiency_mpg']"
   ]
  },
  {
   "cell_type": "markdown",
   "id": "0b13b813-a3ba-4507-a359-ed7976cc068b",
   "metadata": {},
   "source": [
    "### Re-create linear regression and RMSE functions for practice"
   ]
  },
  {
   "cell_type": "code",
   "execution_count": 54,
   "id": "d30ceab5-d914-44c7-9298-fca7e2cbdc97",
   "metadata": {},
   "outputs": [],
   "source": [
    "def train_linear_regression(X, y):\n",
    "    ones = np.ones(X.shape[0])            ##create bias term\n",
    "    X = np.column_stack([ones, X])        ## stack bias term into Feature Array X\n",
    "\n",
    "    XTX = X.T.dot(X)\n",
    "    XTX_inv = np.linalg.inv(XTX)\n",
    "    w_full = XTX_inv.dot(X.T).dot(y)\n",
    "    \n",
    "    return w_full[0], w_full[1:]\n",
    "\n",
    "\n",
    "## function to calculate Root Mean Square Error\n",
    "    ## lower the RMSE the better\n",
    "def rmse(y, y_pred):\n",
    "    se = (y - y_pred)**2\n",
    "    mse= se.mean()\n",
    "    return np.sqrt(mse)"
   ]
  },
  {
   "cell_type": "code",
   "execution_count": 57,
   "id": "64a04e07-cf83-4e80-9407-7db782577357",
   "metadata": {},
   "outputs": [
    {
     "name": "stdout",
     "output_type": "stream",
     "text": [
      " RMSE for fillna(mean horsepower) training data: 0.5\n"
     ]
    }
   ],
   "source": [
    "## train linear regression model \n",
    "X_train = df_train.values\n",
    "X_val = df_val.values\n",
    "\n",
    "## Train linear regression model\n",
    "train_linear_regression(X_train, y_train)\n",
    "\n",
    "## Use trained model to predict on validation dataset\n",
    "y_pred = w0 + X_val.dot(w)\n",
    "\n",
    "## This is the validation RMSE based on the linear regression model that used \"fillna\" of mean HP whenever there were missing values for \"horsepower\"\n",
    "print(f' RMSE for fillna(mean horsepower) training data: {round(rmse(y_val, y_pred), 2)}')"
   ]
  },
  {
   "cell_type": "markdown",
   "id": "58a59a5b-14db-4ab2-901b-c2351f8c0acb",
   "metadata": {},
   "source": [
    "### QUESTION #3 ANSWER\n",
    "\n",
    "The linear regression model produces better results (lower RMSE) when the mean horsepower is used to fillna( ) when horsepower is blank. The RMSE is 0.5 while the RMSE for the regression model using fillna(0) is 0.52."
   ]
  },
  {
   "cell_type": "markdown",
   "id": "bd3ce643-ff8f-489e-8942-16b08358a6ec",
   "metadata": {},
   "source": [
    "# QUESTION #4 \n",
    "Now let's train a regularized linear regression.\n",
    "\n",
    "For this question, fill the NAs with 0.\n",
    "\n",
    "Try different values of r from this list: [0, 0.01, 0.1, 1, 5, 10, 100].\n",
    "\n",
    "Use RMSE to evaluate the model on the validation dataset.\n",
    "\n",
    "Round the RMSE scores to 2 decimal digits.\n",
    "\n",
    "Which r gives the best RMSE?\n",
    "\n",
    "If multiple options give the same best RMSE, select the smallest r.\n"
   ]
  },
  {
   "cell_type": "code",
   "execution_count": null,
   "id": "de20507b-d750-4e3d-a94d-7bc2b9a26e65",
   "metadata": {},
   "outputs": [],
   "source": [
    "## Create random shuffled datasets (train , validate, test)\n",
    "\n",
    "## fillna(0) \n",
    "\n",
    "##regularize your linear regression traning model\n",
    "\n",
    "## calcualte RMSE on validation dataset\n",
    "\n"
   ]
  },
  {
   "cell_type": "code",
   "execution_count": 20,
   "id": "47688b6c-2d0b-4182-a0db-5e8c881ee519",
   "metadata": {},
   "outputs": [],
   "source": [
    "## calculate count of observations per data set (train, validate, test)\n",
    "n = len(df1)\n",
    "n_val = int(n * 0.2)\n",
    "n_test = int(n * 0.2)\n",
    "n_train = n - n_val - n_test\n",
    "\n",
    "## create random shuffle component to randomly create data sets\n",
    "idx = np.arange(n)\n",
    "np.random.seed(42)\n",
    "np.random.shuffle(idx)\n",
    "\n",
    "## create random data sets for each (train, validate, test)\n",
    "    ## data sets will be subfiltered DataFrame\n",
    "\n",
    "df_train = df1.iloc[idx[:n_train]]\n",
    "df_val = df1.iloc[idx[n_train:n_train + n_val]]\n",
    "df_test = df1.iloc[idx[n_train+n_val:]]\n",
    "\n",
    "## drop indexes on data sets saved to respective DataFrames\n",
    "df_train = df_train.reset_index(drop=True)\n",
    "df_val = df_val.reset_index(drop=True)\n",
    "df_test = df_test.reset_index(drop=True)"
   ]
  },
  {
   "cell_type": "code",
   "execution_count": 21,
   "id": "77f0d5b4-fa1c-42f0-9aca-ea064da3604b",
   "metadata": {},
   "outputs": [],
   "source": [
    "## fill missing values with 0\n",
    "\n",
    "df_train.fillna(0, inplace=True)\n",
    "df_val.fillna(0, inplace=True)\n",
    "df_test.fillna(0, inplace=True)"
   ]
  },
  {
   "cell_type": "code",
   "execution_count": 22,
   "id": "8a450de3-b1b6-4957-9835-a9e92b8a89b5",
   "metadata": {},
   "outputs": [],
   "source": [
    "## Set y predictor variable to array and drop variable from feature space\n",
    "    ## (train , validate, and test datasets)\n",
    "\n",
    "y_train = df_train['fuel_efficiency_mpg'].values\n",
    "y_val = df_val['fuel_efficiency_mpg'].values\n",
    "y_test = df_test['fuel_efficiency_mpg'].values\n",
    "\n",
    "del df_train['fuel_efficiency_mpg']\n",
    "del df_val['fuel_efficiency_mpg']\n",
    "del df_test['fuel_efficiency_mpg']"
   ]
  },
  {
   "cell_type": "code",
   "execution_count": 23,
   "id": "5bbd63c6-6789-4f09-94b2-042525b15fad",
   "metadata": {},
   "outputs": [],
   "source": [
    "## Train Linear Regression Model\n",
    "    ## Use For-loop to cycle through a list of possible \"regularization\" values\n",
    "\n",
    "def train_linear_regression_reg(X, y, r=1):\n",
    "    ones = np.ones(X.shape[0])\n",
    "    X = np.column_stack([ones, X])\n",
    "\n",
    "    XTX = X.T.dot(X)\n",
    "    XTX = XTX + r * np.eye(XTX.shape[0])     ## regularization used here to slightly alter the diagonal of the array\n",
    "\n",
    "    XTX_inv = np.linalg.inv(XTX)\n",
    "    w_full = XTX_inv.dot(X.T).dot(y)\n",
    "    \n",
    "    return w_full[0], w_full[1:]"
   ]
  },
  {
   "cell_type": "code",
   "execution_count": 24,
   "id": "a5fffa31-db8c-41d0-a28a-0ce0b8993398",
   "metadata": {},
   "outputs": [],
   "source": [
    "## function to calculate Root Mean Square Error\n",
    "    ## lower the RMSE the better\n",
    "def rmse(y, y_pred):\n",
    "    se = (y - y_pred)**2\n",
    "    mse= se.mean()\n",
    "    return np.sqrt(mse)"
   ]
  },
  {
   "cell_type": "code",
   "execution_count": 27,
   "id": "cb5b3e21-4105-4218-8715-508af14a3615",
   "metadata": {},
   "outputs": [
    {
     "name": "stdout",
     "output_type": "stream",
     "text": [
      " RMSE for fillna(0) training data & regularization of 0 : 0.5174\n",
      " RMSE for fillna(0) training data & regularization of 0.01 : 0.5171\n",
      " RMSE for fillna(0) training data & regularization of 0.1 : 0.5188\n",
      " RMSE for fillna(0) training data & regularization of 1 : 0.5222\n",
      " RMSE for fillna(0) training data & regularization of 5 : 0.5229\n",
      " RMSE for fillna(0) training data & regularization of 10 : 0.523\n",
      " RMSE for fillna(0) training data & regularization of 100 : 0.5231\n"
     ]
    }
   ],
   "source": [
    "## For Loop to check for best RMSE\n",
    "\n",
    "for r in [0, 0.01, 0.1, 1, 5, 10, 100]:\n",
    "    X_train = df_train.values                            #convert X features to array\n",
    "    X_val = df_val.values                               \n",
    "    \n",
    "    w0, w= train_linear_regression_reg(X_train, y_train, r=r)      #train linear regression model\n",
    "    y_pred = w0 + X_val.dot(w)\n",
    "    \n",
    "    ## This is the validation RMSE based on the linear regression model that used \"fillna\" of mean HP whenever there were missing values for \"horsepower\"\n",
    "    print(f' RMSE for fillna(0) training data & regularization of {r} : {round(rmse(y_val, y_pred), 4)}')\n",
    "    "
   ]
  },
  {
   "cell_type": "code",
   "execution_count": 26,
   "id": "5bf0f60f-4820-4be8-a730-b085944b389f",
   "metadata": {},
   "outputs": [],
   "source": [
    "### Received the same RMSE using a round function to 4 decimals, will switch to round 3 decimals to select the lowest RMSE"
   ]
  },
  {
   "cell_type": "markdown",
   "id": "d4ca6a4f-3271-4b8a-ba20-592de4f56344",
   "metadata": {},
   "source": [
    "### QUESTION #4 ANSWER = The best model with the lowest RMSE is the model that has regularization amount of r=0.01.\n",
    "\n",
    "The model with a regulatization value of r=0.01 has an RMSE of 0.5171"
   ]
  },
  {
   "cell_type": "markdown",
   "id": "27725ca5-46ac-439a-bad3-dad201ff4ee4",
   "metadata": {},
   "source": [
    "# QUESTION #5 CALCULATE RMSE ON TRAINING MODEL USING DIFFERENT RANDOM SEEDS\n",
    "\n",
    "We used seed 42 for splitting the data. Let's find out how selecting the seed influences our score.\n",
    "\n",
    "Try different seed values: [0, 1, 2, 3, 4, 5, 6, 7, 8, 9].\n",
    "\n",
    "For each seed, do the train/validation/test split with 60%/20%/20% distribution.\n",
    "\n",
    "Fill the missing values with 0 and train a model without regularization.\n",
    "\n",
    "For each seed, evaluate the model on the validation dataset and collect the RMSE scores.\n",
    "\n",
    "What's the standard deviation of all the scores? To compute the standard deviation, use np.std.\n",
    "\n",
    "Round the result to 3 decimal digits (round(std, 3))\n",
    "\n",
    "What's the value of std?\n",
    "\n",
    "0.001\n",
    "0.006\n",
    "0.060\n",
    "0.600"
   ]
  },
  {
   "cell_type": "code",
   "execution_count": 6,
   "id": "df0ddcaa-a5e8-4b71-bfa8-c051b31235fd",
   "metadata": {},
   "outputs": [],
   "source": [
    "## modified Linear Regression Training Model\n",
    "    ## Regularization is set to 1 so that diagonal of X feature array is not adjusted\n",
    "\n",
    "def train_linear_regression_reg(X, y, r=1):\n",
    "    ones = np.ones(X.shape[0])\n",
    "    X = np.column_stack([ones, X])\n",
    "\n",
    "    XTX = X.T.dot(X)\n",
    "    XTX = XTX + r * np.eye(XTX.shape[0])     ## regularization used here with value of 1, no alteration to the diagonal of the array\n",
    "\n",
    "    XTX_inv = np.linalg.inv(XTX)\n",
    "    w_full = XTX_inv.dot(X.T).dot(y)\n",
    "    \n",
    "    return w_full[0], w_full[1:]"
   ]
  },
  {
   "cell_type": "code",
   "execution_count": 7,
   "id": "53ca4bb1-0376-49e8-af61-e36353ed92ea",
   "metadata": {},
   "outputs": [],
   "source": [
    "## function to calculate Root Mean Square Error\n",
    "    ## lower the RMSE the better\n",
    "def rmse(y, y_pred):\n",
    "    se = (y - y_pred)**2\n",
    "    mse= se.mean()\n",
    "    return np.sqrt(mse)"
   ]
  },
  {
   "cell_type": "markdown",
   "id": "2bcafb24-49be-4b5d-9d68-5ddab8587538",
   "metadata": {},
   "source": [
    "ORIGINAL TRAIN/ VAL / TEST SPLIT OF DATASETS BELOW IN MARKDOWN"
   ]
  },
  {
   "cell_type": "code",
   "execution_count": null,
   "id": "1876b70e-1d94-4430-ab8a-ebe04e3865f3",
   "metadata": {},
   "outputs": [],
   "source": [
    "# ## calculate count of observations per data set (train, validate, test)\n",
    "# n = len(df1)\n",
    "# n_val = int(n * 0.2)\n",
    "# n_test = int(n * 0.2)\n",
    "# n_train = n - n_val - n_test\n",
    "\n",
    "# ## create random shuffle component to randomly create data sets\n",
    "# idx = np.arange(n)\n",
    "# np.random.seed(42)\n",
    "# np.random.shuffle(idx)\n",
    "\n",
    "# ## create random data sets for each (train, validate, test)\n",
    "#     ## data sets will be subfiltered DataFrame\n",
    "\n",
    "# df_train = df1.iloc[idx[:n_train]]\n",
    "# df_val = df1.iloc[idx[n_train:n_train + n_val]]\n",
    "# df_test = df1.iloc[idx[n_train+n_val:]]\n",
    "\n",
    "# ## drop indexes on data sets saved to respective DataFrames\n",
    "# df_train = df_train.reset_index(drop=True)\n",
    "# df_val = df_val.reset_index(drop=True)\n",
    "# df_test = df_test.reset_index(drop=True)"
   ]
  },
  {
   "cell_type": "code",
   "execution_count": 18,
   "id": "bc3e8fae-a009-4930-8b33-b3c3f9cf3367",
   "metadata": {},
   "outputs": [
    {
     "name": "stdout",
     "output_type": "stream",
     "text": [
      " RMSE for fillna(0) training data & random seed 0 : 0.527\n",
      " RMSE for fillna(0) training data & random seed 1 : 0.5285\n",
      " RMSE for fillna(0) training data & random seed 2 : 0.53\n",
      " RMSE for fillna(0) training data & random seed 3 : 0.5215\n",
      " RMSE for fillna(0) training data & random seed 4 : 0.5195\n",
      " RMSE for fillna(0) training data & random seed 5 : 0.5359\n",
      " RMSE for fillna(0) training data & random seed 6 : 0.5386\n",
      " RMSE for fillna(0) training data & random seed 7 : 0.5171\n",
      " RMSE for fillna(0) training data & random seed 8 : 0.5234\n",
      " RMSE for fillna(0) training data & random seed 9 : 0.5197\n"
     ]
    }
   ],
   "source": [
    "score_list = []\n",
    "\n",
    "## For Loop of different random seeds to use for linear regression training\n",
    "for seed in [0, 1, 2, 3, 4, 5, 6, 7, 8, 9]:\n",
    "    ## calculate count of observations per data set (train, validate, test)\n",
    "    n = len(df1)\n",
    "    n_val = int(n * 0.2)\n",
    "    n_test = int(n * 0.2)\n",
    "    n_train = n - n_val - n_test\n",
    "    \n",
    "    ## create random shuffle component to randomly create data sets\n",
    "    idx = np.arange(n)\n",
    "    np.random.seed(seed)\n",
    "    np.random.shuffle(idx)\n",
    "    \n",
    "    ## create random data sets for each (train, validate, test)\n",
    "        ## data sets will be subfiltered DataFrame\n",
    "    df_train = df1.iloc[idx[:n_train]]\n",
    "    df_val = df1.iloc[idx[n_train:n_train + n_val]]\n",
    "    df_test = df1.iloc[idx[n_train+n_val:]]\n",
    "    \n",
    "    ## drop indexes on data sets saved to respective DataFrames\n",
    "    df_train = df_train.reset_index(drop=True)\n",
    "    df_val = df_val.reset_index(drop=True)\n",
    "    df_test = df_test.reset_index(drop=True)\n",
    "\n",
    "    ## fill missing values with 0\n",
    "    df_train.fillna(0, inplace=True)\n",
    "    df_val.fillna(0, inplace=True)\n",
    "    df_test.fillna(0, inplace=True)\n",
    "\n",
    "    ## Set y predictor variable to array and drop variable from feature space\n",
    "    ## (train , validate, and test datasets)\n",
    "    y_train = df_train['fuel_efficiency_mpg'].values\n",
    "    y_val = df_val['fuel_efficiency_mpg'].values\n",
    "    y_test = df_test['fuel_efficiency_mpg'].values\n",
    "    \n",
    "    del df_train['fuel_efficiency_mpg']\n",
    "    del df_val['fuel_efficiency_mpg']\n",
    "    del df_test['fuel_efficiency_mpg']\n",
    "\n",
    "    #convert X features to array\n",
    "    X_train = df_train.values                            \n",
    "    X_val = df_val.values                               \n",
    "\n",
    "    #train linear regression model\n",
    "    w0, w= train_linear_regression_reg(X_train, y_train, r=1)      \n",
    "    y_pred = w0 + X_val.dot(w)\n",
    "    \n",
    "    ## This is the validation RMSE based on the linear regression model that used \"fillna\" of mean HP whenever there were missing values for \"horsepower\"\n",
    "    print(f' RMSE for fillna(0) training data & random seed {seed} : {round(rmse(y_val, y_pred), 4)}')\n",
    "\n",
    "    ## save scores from each Random Seed model into list\n",
    "    score_list.append(round(rmse(y_val, y_pred), 4))"
   ]
  },
  {
   "cell_type": "code",
   "execution_count": 19,
   "id": "9d625ee7-03b9-4c0b-9fe0-f4809d42790e",
   "metadata": {},
   "outputs": [
    {
     "data": {
      "text/plain": [
       "[np.float64(0.527),\n",
       " np.float64(0.5285),\n",
       " np.float64(0.53),\n",
       " np.float64(0.5215),\n",
       " np.float64(0.5195),\n",
       " np.float64(0.5359),\n",
       " np.float64(0.5386),\n",
       " np.float64(0.5171),\n",
       " np.float64(0.5234),\n",
       " np.float64(0.5197)]"
      ]
     },
     "execution_count": 19,
     "metadata": {},
     "output_type": "execute_result"
    }
   ],
   "source": [
    "score_list"
   ]
  },
  {
   "cell_type": "code",
   "execution_count": 21,
   "id": "2d96896c-bd0e-47de-91c2-c957e074174d",
   "metadata": {},
   "outputs": [
    {
     "data": {
      "text/plain": [
       "np.float64(0.007)"
      ]
     },
     "execution_count": 21,
     "metadata": {},
     "output_type": "execute_result"
    }
   ],
   "source": [
    "## What is the standard deviation of all of the scores?\n",
    "\n",
    "round(np.std(score_list),3)"
   ]
  },
  {
   "cell_type": "markdown",
   "id": "d87d7cad-ac42-49c1-a3df-a22ff8491692",
   "metadata": {},
   "source": [
    "### QUESTION 5 ANSWER = The standard deviation of all of the scores rounded to 3 decimals is 0.007"
   ]
  },
  {
   "cell_type": "markdown",
   "id": "1d523ce5-e19b-49d8-a13a-d2ee8915b216",
   "metadata": {},
   "source": [
    "# QUESTION 6\n",
    "\n",
    "Split the dataset like previously, use seed 9.\n",
    "\n",
    "Combine train and validation datasets.\n",
    "\n",
    "Fill the missing values with 0 and train a model with r=0.001.\n",
    "\n",
    "What's the RMSE on the test dataset?\n",
    "\n",
    "Options:\n",
    "\n",
    "0.15\n",
    "\n",
    "0.515\n",
    "\n",
    "5.15\n",
    "\n",
    "51.5"
   ]
  },
  {
   "cell_type": "code",
   "execution_count": 27,
   "id": "5deca8f9-5f65-413d-be1f-fbe8fee96f2f",
   "metadata": {},
   "outputs": [],
   "source": [
    "## Linear Regression Model without regularization \"r\" variable\n",
    "\n",
    "def train_linear_regression(X, y):\n",
    "    ones = np.ones(X.shape[0])            ##create bias term\n",
    "    X = np.column_stack([ones, X])        ## stack bias term into Feature Array X\n",
    "\n",
    "    XTX = X.T.dot(X)\n",
    "    XTX_inv = np.linalg.inv(XTX)\n",
    "    w_full = XTX_inv.dot(X.T).dot(y)\n",
    "    \n",
    "    return w_full[0], w_full[1:]"
   ]
  },
  {
   "cell_type": "code",
   "execution_count": 28,
   "id": "5437d223-a9f3-4180-b4dd-5c642385ffce",
   "metadata": {},
   "outputs": [],
   "source": [
    "## calculate count of observations per data set (train, validate, test)\n",
    "n = len(df1)\n",
    "n_val = int(n * 0.2)\n",
    "n_test = int(n * 0.2)\n",
    "n_train = n - n_val - n_test\n",
    "\n",
    "## create random shuffle component to randomly create data sets\n",
    "idx = np.arange(n)\n",
    "np.random.seed(9)\n",
    "np.random.shuffle(idx)\n",
    "\n",
    "## create random data sets for each (train, validate, test)\n",
    "    ## data sets will be subfiltered DataFrame\n",
    "df_train = df1.iloc[idx[:n_train]]\n",
    "df_val = df1.iloc[idx[n_train:n_train + n_val]]\n",
    "df_test = df1.iloc[idx[n_train+n_val:]]\n",
    "\n",
    "## drop indexes on data sets saved to respective DataFrames\n",
    "df_train = df_train.reset_index(drop=True)\n",
    "df_val = df_val.reset_index(drop=True)\n",
    "df_test = df_test.reset_index(drop=True)\n",
    "\n",
    "## fill missing values with 0\n",
    "df_train.fillna(0, inplace=True)\n",
    "df_val.fillna(0, inplace=True)\n",
    "df_test.fillna(0, inplace=True)"
   ]
  },
  {
   "cell_type": "code",
   "execution_count": 29,
   "id": "d51e3a1f-8053-4461-b3e6-1d754ff5c90c",
   "metadata": {},
   "outputs": [],
   "source": [
    "## Set y predictor variable to array and drop variable from feature space\n",
    "## (train , validate, and test datasets)\n",
    "y_train = df_train['fuel_efficiency_mpg'].values\n",
    "y_val = df_val['fuel_efficiency_mpg'].values\n",
    "y_test = df_test['fuel_efficiency_mpg'].values\n",
    "\n",
    "del df_train['fuel_efficiency_mpg']\n",
    "del df_val['fuel_efficiency_mpg']\n",
    "del df_test['fuel_efficiency_mpg']"
   ]
  },
  {
   "cell_type": "code",
   "execution_count": 30,
   "id": "5c8d8fd0-47d6-405a-ade5-4af66b6dd50b",
   "metadata": {},
   "outputs": [],
   "source": [
    "## Concatenate Train and Validation sets into 1 whole training set\n",
    "\n",
    "df_full_train = pd.concat([df_train, df_val])\n",
    "y_full_train = np.concatenate([y_train, y_val])"
   ]
  },
  {
   "cell_type": "code",
   "execution_count": 32,
   "id": "5422e5e8-7946-489a-b2d7-9db89ff24b85",
   "metadata": {},
   "outputs": [
    {
     "name": "stdout",
     "output_type": "stream",
     "text": [
      " RMSE for fillna(0) full training, random seed:9, and no regularization : 3.5018\n"
     ]
    }
   ],
   "source": [
    "#convert X features to array\n",
    "X_full_train = df_full_train.values                            \n",
    "X_test = df_test.values                               \n",
    "\n",
    "#train linear regression model\n",
    "w0, w= train_linear_regression_reg(X_full_train, y_full_train)      \n",
    "y_pred = w0 + X_test.dot(w)\n",
    "\n",
    "## This is the validation RMSE based on the linear regression model that used \"fillna\" of mean HP whenever there were missing values for \"horsepower\"\n",
    "print(f' RMSE for fillna(0) full training, random seed:{seed}, and no regularization : {round(rmse(y_val, y_pred), 4)}')"
   ]
  },
  {
   "cell_type": "markdown",
   "id": "47af4f67-af43-41ed-b59a-bb475ba841be",
   "metadata": {},
   "source": [
    "### QUESTION #6 ANSWER =\n",
    "\n",
    "The RMSE for training the model with Fillna(0), no Regularization, and combining Test and Validation sets is 3.5018. The closes answer to this on 2025 Cohort homework #2 is 5.15"
   ]
  },
  {
   "cell_type": "code",
   "execution_count": null,
   "id": "e834b713-b0bd-471e-91c4-251aae15d1d1",
   "metadata": {},
   "outputs": [],
   "source": []
  },
  {
   "cell_type": "code",
   "execution_count": null,
   "id": "d49d2b6c-04b6-4aa0-9d66-c62d974187f3",
   "metadata": {},
   "outputs": [],
   "source": []
  },
  {
   "cell_type": "code",
   "execution_count": null,
   "id": "e44764de-7d3e-4393-a46e-b40bd58fd950",
   "metadata": {},
   "outputs": [],
   "source": []
  }
 ],
 "metadata": {
  "kernelspec": {
   "display_name": "Python 3 (ipykernel)",
   "language": "python",
   "name": "python3"
  },
  "language_info": {
   "codemirror_mode": {
    "name": "ipython",
    "version": 3
   },
   "file_extension": ".py",
   "mimetype": "text/x-python",
   "name": "python",
   "nbconvert_exporter": "python",
   "pygments_lexer": "ipython3",
   "version": "3.12.1"
  }
 },
 "nbformat": 4,
 "nbformat_minor": 5
}
